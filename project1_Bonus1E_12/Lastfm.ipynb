{
  "cells": [
    {
      "attachments": {},
      "cell_type": "markdown",
      "metadata": {
        "id": "7VIxCnJgU9MG"
      },
      "source": [
        "# **Transition system model for Last.fm integration**\n",
        "\n"
      ]
    },
    {
      "attachments": {},
      "cell_type": "markdown",
      "metadata": {
        "id": "t6ejeq_2VGcG"
      },
      "source": [
        "## **Action space  𝑈**\n",
        "\n",
        "**Action Components:**\n",
        "\n",
        "Name - Name of the action\n",
        "\n",
        "LastFm ID - ID of the LastFm\n",
        "\n",
        "LastFm Information - Information of LastFm Id. \n",
        "\n",
        "---\n",
        "\n",
        "**Actions:**\n",
        "\n",
        "SelectAdmin(null, null): Using this option we can go to admin operation page. \n",
        "\n",
        "Enterdetails(null, null): We can enter our details for lastfm using this option. \n",
        "\n",
        "Connect(LastFm_Id, LastFm_Info) : Clicking on this will connect to lastfm account or gives error. \n",
        "\n",
        "\n",
        "U={CommandName, CommandParams}"
      ]
    },
    {
      "attachments": {},
      "cell_type": "markdown",
      "metadata": {
        "id": "WhGgxxPaVsUf"
      },
      "source": [
        "## **Output space  𝑌**\n",
        "\n",
        "DashboardViewScreen: This is the dashboard screen for music app. \n",
        "\n",
        "AdminViewScreen: This is the screen where we can edit lastfm details and password settings. \n",
        "\n",
        "ErrorWarningViewScreen: This screen shows error if lastfm account is not connected. \n",
        "\n",
        "SuccesfullViewScreen: This is the screen when lastfm got successfully connected. "
      ]
    },
    {
      "attachments": {},
      "cell_type": "markdown",
      "metadata": {
        "id": "2Sfq-ge1Vua1"
      },
      "source": [
        "## **States X**\n",
        "\n",
        "Super States are: DashboardView, AdminView, ErrorWarningView, SuccesfullView\n",
        "\n",
        "\n",
        "State Includes the following information:\n",
        "\n",
        "1. LastFm Id (String,f)\n",
        "2. State Name (Enum, n) - { DashboardView, AdminView, ErrorWarningView, SuccesfullView\n",
        "} \n",
        "4. Currently selected LastFm (Integer, s) - LastFm selected for rescheduling or cancelling\n",
        "5. Upcoming List (String[], u) - list of all upcoming appointments\n",
        "6. Past List (String[], p) - list of all past appointments\n",
        "7. Textbox input (String,t) - entered text in the box\n",
        "\n",
        "x = (f,n,s,u,p,t)"
      ]
    },
    {
      "attachments": {},
      "cell_type": "markdown",
      "metadata": {
        "id": "gGiITwLvVwVe"
      },
      "source": [
        "## **Initial state $X_0$**\n",
        "$x_0$ = (\"\",Initial,-1,null,null,\"\")"
      ]
    },
    {
      "attachments": {},
      "cell_type": "markdown",
      "metadata": {
        "id": "9NZg8ptZVyU6"
      },
      "source": [
        "## **Display map  ℎ**\n",
        "\n",
        "| STATE       | Observable  |\n",
        "| :---        |    :----:   |\n",
        "| DashboardView      | Render(DashboardViewScreen)      |\n",
        "| AdminView   | Render(AdminViewScreen)        |\n",
        "|ErrorWarningView|Render(ErrorWarningViewScreen)|\n",
        "|SuccesfullView|Render(SuccesfullViewScreen)|\n"
      ]
    },
    {
      "cell_type": "markdown",
      "metadata": {
        "id": "6tACZCeVV1X1"
      },
      "source": [
        "## **Transition relation**\n",
        "\n",
        "\n"
      ]
    },
    {
      "attachments": {},
      "cell_type": "markdown",
      "metadata": {
        "id": "IoaeA_lX4flT"
      },
      "source": [
        "| Action      | DashboardView        | AdminView        | ErrorWarningView       | SuccesfullView     |\n",
        "| :---        |    :----          |       :---       | :---           | :---          |\n",
        "| SelectAdmin(null, null) | F1;AdminView     | F2;AdminView | F3;AdminView | F4;AdminView | X | X | X | X | X |\n",
        "| Enterdetails(null, null)   | X | F5;AdminView | X | X | X | X | X | X | X |\n",
        "| Connect(LastFm_Id, LastFm_Info)    | X | F6⟲;ErrorWarningView or SuccesfullView  | X | X | X | X | X | X | X |\n",
        "\n"
      ]
    }
  ],
  "metadata": {
    "colab": {
      "provenance": []
    },
    "kernelspec": {
      "display_name": "Python 3",
      "language": "python",
      "name": "python3"
    },
    "language_info": {
      "name": "python",
      "version": "3.6.15"
    },
    "vscode": {
      "interpreter": {
        "hash": "aa651ea2cb81616ad831391b281ced4cfb869da76df4e356b2b6a56cc4ac3f00"
      }
    }
  },
  "nbformat": 4,
  "nbformat_minor": 0
}
