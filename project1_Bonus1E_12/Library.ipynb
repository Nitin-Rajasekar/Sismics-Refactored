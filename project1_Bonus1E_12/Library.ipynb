{
  "cells": [
    {
      "attachments": {},
      "cell_type": "markdown",
      "metadata": {
        "id": "7VIxCnJgU9MG"
      },
      "source": [
        "# **Transition system model for Library Management system**\n",
        "\n",
        "\n"
      ]
    },
    {
      "attachments": {},
      "cell_type": "markdown",
      "metadata": {
        "id": "t6ejeq_2VGcG"
      },
      "source": [
        "## **Action space  𝑈**\n",
        "**Action components :**\n",
        "\n",
        "Name - Name of the action\n",
        "\n",
        "Music Id - ID of the Specific song file. \n",
        "\n",
        "Music Information - All information regarding a specific song file.\n",
        "\n",
        "\n",
        "---\n",
        "**Actions:** \n",
        "\n",
        "AddMusic(MusicId, MusicInfo): Clicking on this gives options to add music with two of the ways. \n",
        "\n",
        "UploadMusic(MusicId, MusicInfo): Click on this leads to upload music from devie. \n",
        "\n",
        "ExternalSources(MusicId, MusicInfo): On clicking this we will have chance to add music from external link. \n",
        "\n",
        "AddImportedMusic(MusicId, MusicInfo): On clicking this it will add all the musics we have added. \n",
        "\n",
        "AddFile(Null, Null): on clicking this will give a popup to files on device. \n",
        "\n",
        "Upload(MusicId, MusicInfo): On clicking this it will upload to addimportmusic. \n",
        "\n",
        "QualityChange(NULL, MusicInfo): It allows the user to change the quality of the song. \n",
        "\n",
        "FormateChange(NULL, MusicInfo): It allows the user to change the formate of the song. \n",
        "\n",
        "EditDetails(MusicId, MusicInfo): It edits the details of all the songs and the playlists they belong to. \n",
        "\n",
        "AddAll(MusicId, MusicInfo): It is the final confirmation to add all the music files to playlist. \n",
        "\n",
        "U={CommandName, CommandParams}\n"
      ]
    },
    {
      "attachments": {},
      "cell_type": "markdown",
      "metadata": {
        "id": "WhGgxxPaVsUf"
      },
      "source": [
        "## **Output space  𝑌**\n",
        "\n",
        "MusicViewScreen: This is the dashboard screen for music app. \n",
        "\n",
        "UploadMusicViewScreen: This screen gives option to add music from our device. \n",
        "\n",
        "UploadPopUpViewScreen: This screen shows all the files in our device that we choose to upload. \n",
        "\n",
        "ExternalSourceViewScreen: This screen presents all the options to add from external source. \n",
        "\n",
        "AddImportedMusicViewScreen: This screen shows all the music imported and chance to edit the details. \n",
        "\n",
        "\n",
        "\n"
      ]
    },
    {
      "attachments": {},
      "cell_type": "markdown",
      "metadata": {
        "id": "2Sfq-ge1Vua1"
      },
      "source": [
        "## **States X**\n",
        "Super States are: MusicView, UploadMusicView, UploadPopUpView, ExternalSourceView, AddImportedMusicView. \n",
        "\n",
        "State Includes the following information:\n",
        "\n",
        "1. Music File Name (String,f)\n",
        "2. State Name (Enum, n) - { MusicView, UploadMusicView, UploadPopUpView, ExternalSourceView, AddImportedMusicView.\n",
        "} \n",
        "3. BookingList (appointmentlist[],t), where BookingList is a vector holding the attributes of an appointment: <ServiceType,StaffType,Date,Time,Status,UserEmail>\n",
        "4. Currently selected music (Integer, s) - booking selected for rescheduling or cancelling\n",
        "5. Upcoming List (String[], u) - list of all upcoming bookings\n",
        "6. Past List (String[], p) - list of all past bookings\n",
        "7. Textbox input (String,t) - entered text in the box\n",
        "\n",
        "x = (f,n,a,s,u,p,t)"
      ]
    },
    {
      "cell_type": "markdown",
      "metadata": {
        "id": "gGiITwLvVwVe"
      },
      "source": [
        "## **Initial state $X_0$**\n",
        "$x_0$ = (\"\",Initial,null,-1,null,null,\"\")"
      ]
    },
    {
      "attachments": {},
      "cell_type": "markdown",
      "metadata": {
        "id": "9NZg8ptZVyU6"
      },
      "source": [
        "## **Display Map  ℎ**\n",
        "| STATE      | OBSERVABLE |\n",
        "| ----------- | ----------- |\n",
        "| MusicView     | Render(MusicViewScreen)    |\n",
        "| UploadMusicView   | Render(UploadMusicViewScreen)        |\n",
        "| UploadPopUpView  | Render(UploadPopUpViewScreen)        |\n",
        "| ExternalSourceView   | Render(ExternalSourceViewScreen)        |\n",
        "| AddImportedMusicView   | Render(AddImportedMusicScreen)        |\n",
        "\n"
      ]
    },
    {
      "attachments": {},
      "cell_type": "markdown",
      "metadata": {
        "id": "6tACZCeVV1X1"
      },
      "source": [
        "## **Transition Relation**\n",
        "\n",
        "| Action      | MusicView       | UploadMusicView        | UploadPopUpView       | ExternalSourceView     | AddImportMusicView | \n",
        "| :---        | :---         | :---        | :---        | :---        | :---        |\n",
        "| AddMusic(MusicId, MusicInfo) | UploadMusicView     | UploadMusicView  | UploadMusicView  | UploadMusicView | UploadMusicView  | X | X | X | X |\n",
        "| UploadMusic(MusicId, MusicInfo)  | X  | UploadMusicView  | UploadMusicView  | UploadMusicView  | UploadMusicView  | X | X | X | X |\n",
        "| ExternalSources(MusicId, MusicInfo)   | X | ExternalSourceView | ExternalSourceView | ExternalSourceView | ExternalSourceView | X | X | X | X |\n",
        "| AddImportedMusic(MusicId, MusicInfo)        | X | AddImportMusicView | AddImportMusicView | AddImportMusicView | AddImportMusicView | X | X | X | X |\n",
        "| Upload(MusicId, MusicInfo)      | X | X | UploadMusicView | X | X | X | X | X | X |\n",
        "| AddFile(NULL, Null)   | X | UploadPopUpView | X | X | X |X | X | X | X |\n",
        "| QualityChange(NULL, MusicInfo)   | X | X | X| ExternalSourceView | X |X | X | X | X |\n",
        "| FormateChange(NULL, MusicInfo)        | X | X | X | ExternalSourceView | X | X | X | X | X |\n",
        "| EditDetails(MusicId, MusicInfo)        | X | X | X | X | AddImportMusicView  | X | X | X | X |\n",
        "| AddAll(MusicId, MusicInfo)       | X | X | X | X | MusicView | X | X | X | X |\n"
      ]
    }
  ],
  "metadata": {
    "colab": {
      "provenance": []
    },
    "kernelspec": {
      "display_name": "Python 3",
      "language": "python",
      "name": "python3"
    },
    "language_info": {
      "name": "python",
      "version": "3.6.15"
    },
    "vscode": {
      "interpreter": {
        "hash": "aa651ea2cb81616ad831391b281ced4cfb869da76df4e356b2b6a56cc4ac3f00"
      }
    }
  },
  "nbformat": 4,
  "nbformat_minor": 0
}
