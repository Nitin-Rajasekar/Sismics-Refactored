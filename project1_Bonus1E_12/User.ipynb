{
  "cells": [
    {
      "attachments": {},
      "cell_type": "markdown",
      "metadata": {
        "id": "7VIxCnJgU9MG"
      },
      "source": [
        "# **Transition system model for UserManagement**\n",
        "\n"
      ]
    },
    {
      "attachments": {},
      "cell_type": "markdown",
      "metadata": {
        "id": "t6ejeq_2VGcG"
      },
      "source": [
        "## **Action space  𝑈**\n",
        "\n",
        "**Action Components:**\n",
        "\n",
        "Name - Name of the action\n",
        "\n",
        "User ID - ID of the user\n",
        "\n",
        "User Information - Information of all the user\n",
        "\n",
        "---\n",
        "\n",
        "**Actions:**\n",
        "\n",
        "ClickSettingButton(null,null): Clicking this will open dropdown button for different admin setting controls\n",
        "\n",
        "Users(null,null): Selecting this will take down to list of all the users. \n",
        "\n",
        "AddUser(null,null): Clicking this will give an option to add user. \n",
        "\n",
        "EnterDetails(UserId, UserInfo): Admin can enter details of users using this option. \n",
        "\n",
        "Upload(UserId, UserInfo): Selcting this creats an user of the desired details. \n",
        "\n",
        "U={CommandName, CommandParams}"
      ]
    },
    {
      "attachments": {},
      "cell_type": "markdown",
      "metadata": {
        "id": "WhGgxxPaVsUf"
      },
      "source": [
        "## **Output space  𝑌**\n",
        "\n",
        "MusicDashboradViewScreen: This screen is the dashboard for the music app for admin. \n",
        "\n",
        "DropdownViewScreen: This screen shows dropdown list for all the options for admin to control. \n",
        "\n",
        "UserManagementViewScreen: This screen shows details of all the users. \n",
        "\n",
        "EnterUserDetailsViewScreen: This screen shows boxes to enter details of user. "
      ]
    },
    {
      "attachments": {},
      "cell_type": "markdown",
      "metadata": {
        "id": "2Sfq-ge1Vua1"
      },
      "source": [
        "## **States X**\n",
        "\n",
        "Super States are: MusicDashboradView, DropdownViewScreen, UserManagementView, EnterUserDetailsView\n",
        "\n",
        "\n",
        "State Includes the following information:\n",
        "\n",
        "1. User Id (String,f)\n",
        "2. State Name (Enum, n) - { MusicDashboradView, DropdownViewScreen, UserManagementView, EnterUserDetailsView\n",
        "} \n",
        "3. UserList (appointmentlist[],a), where appointmentlist is a vector holding the attributes of an User: <ServiceType,StaffType,Date,Time,UserEmail>\n",
        "4. Currently selected appointment (Integer, s) - user selected for rescheduling or cancelling\n",
        "5. Upcoming List (String[], u) - list of all upcoming appointments\n",
        "6. Past List (String[], p) - list of all past appointments\n",
        "7. Textbox input (String,t) - entered text in the box\n",
        "\n",
        "x = (f,n,a,s,u,p,t)"
      ]
    },
    {
      "cell_type": "markdown",
      "metadata": {
        "id": "gGiITwLvVwVe"
      },
      "source": [
        "## **Initial state $X_0$**\n",
        "$x_0$ = (\"\",Initial,null,-1,null,null,\"\")"
      ]
    },
    {
      "attachments": {},
      "cell_type": "markdown",
      "metadata": {
        "id": "9NZg8ptZVyU6"
      },
      "source": [
        "## **Display map  ℎ**\n",
        "\n",
        "| STATE       | Observable  |\n",
        "| :---        |    :----:   |\n",
        "| MusicDashboradView      | Render(MusicDashboradView Screen)      |\n",
        "| DropdownView  | Render(DropdownViewScreen)        |\n",
        "|UserManagementView|Render(UserManagementViewScreen)|\n",
        "|EnterUserDetailsView|Render(EnterUserDetailsViewScreen)|\n"
      ]
    },
    {
      "cell_type": "markdown",
      "metadata": {
        "id": "6tACZCeVV1X1"
      },
      "source": [
        "## **Transition relation**\n",
        "\n",
        "\n"
      ]
    },
    {
      "attachments": {},
      "cell_type": "markdown",
      "metadata": {
        "id": "IoaeA_lX4flT"
      },
      "source": [
        "| Action      | MusicDashboradView       | DropdownView       | UserManagementView       | EnterUserDetailsView     | \n",
        "| :---        |    :----          |       :---       | :---           | :---          |\n",
        "| ClickSettingButton(null,null): | F1;DropdownView     | X | X | X | X | X | X | X | X |\n",
        "| Users(null,null)   | X | F2;UserManagementView   | X | X | X | X | X | X | X |\n",
        "| AddUser(null,null)    | X | X | F3;EnterUserDetailsView | X | X | X | X | X | X |\n",
        "| EnterDetails(UserId, UserInfo)         | X | X | X | F4;EnterUserDetailsView | X | X | X | X | X |\n",
        "| Upload(UserId, UserInfo)      | X | X | X | F5⟲;UserManagementView | X| X | X | X | X |\n",
        "\n"
      ]
    }
  ],
  "metadata": {
    "colab": {
      "provenance": []
    },
    "kernelspec": {
      "display_name": "Python 3",
      "language": "python",
      "name": "python3"
    },
    "language_info": {
      "name": "python",
      "version": "3.6.15"
    },
    "vscode": {
      "interpreter": {
        "hash": "aa651ea2cb81616ad831391b281ced4cfb869da76df4e356b2b6a56cc4ac3f00"
      }
    }
  },
  "nbformat": 4,
  "nbformat_minor": 0
}
